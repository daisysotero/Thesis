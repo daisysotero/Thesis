{
 "cells": [
  {
   "cell_type": "code",
   "execution_count": 35,
   "id": "c904e7ec",
   "metadata": {},
   "outputs": [],
   "source": [
    "import matplotlib.pyplot as plt\n",
    "import pandas as pd\n",
    "import os"
   ]
  },
  {
   "cell_type": "code",
   "execution_count": 36,
   "id": "adfd32d8",
   "metadata": {},
   "outputs": [],
   "source": [
    "arq1=r'C:\\Users\\daisy\\Desktop\\housekeeping\\Figuras\\scatter_pairwise_normfinder.xlsx'\n",
    "df1 = pd.read_excel(arq1)\n"
   ]
  },
  {
   "cell_type": "code",
   "execution_count": 37,
   "id": "21357238",
   "metadata": {},
   "outputs": [
    {
     "data": {
      "text/html": [
       "<div>\n",
       "<style scoped>\n",
       "    .dataframe tbody tr th:only-of-type {\n",
       "        vertical-align: middle;\n",
       "    }\n",
       "\n",
       "    .dataframe tbody tr th {\n",
       "        vertical-align: top;\n",
       "    }\n",
       "\n",
       "    .dataframe thead th {\n",
       "        text-align: right;\n",
       "    }\n",
       "</style>\n",
       "<table border=\"1\" class=\"dataframe\">\n",
       "  <thead>\n",
       "    <tr style=\"text-align: right;\">\n",
       "      <th></th>\n",
       "      <th>Transcript</th>\n",
       "      <th>Stability</th>\n",
       "    </tr>\n",
       "  </thead>\n",
       "  <tbody>\n",
       "    <tr>\n",
       "      <th>0</th>\n",
       "      <td>CSTF64 /NLE</td>\n",
       "      <td>0.12</td>\n",
       "    </tr>\n",
       "    <tr>\n",
       "      <th>1</th>\n",
       "      <td>OAT/RAB7</td>\n",
       "      <td>0.12</td>\n",
       "    </tr>\n",
       "    <tr>\n",
       "      <th>2</th>\n",
       "      <td>26S/CSTF64</td>\n",
       "      <td>0.13</td>\n",
       "    </tr>\n",
       "    <tr>\n",
       "      <th>3</th>\n",
       "      <td>CSTF64/OAT</td>\n",
       "      <td>0.14</td>\n",
       "    </tr>\n",
       "    <tr>\n",
       "      <th>4</th>\n",
       "      <td>26S/NLE</td>\n",
       "      <td>0.15</td>\n",
       "    </tr>\n",
       "    <tr>\n",
       "      <th>5</th>\n",
       "      <td>NLE/RAB7</td>\n",
       "      <td>0.15</td>\n",
       "    </tr>\n",
       "    <tr>\n",
       "      <th>6</th>\n",
       "      <td>26S/RAB7</td>\n",
       "      <td>0.16</td>\n",
       "    </tr>\n",
       "    <tr>\n",
       "      <th>7</th>\n",
       "      <td>NLE/OAT</td>\n",
       "      <td>0.18</td>\n",
       "    </tr>\n",
       "    <tr>\n",
       "      <th>8</th>\n",
       "      <td>26S/OAT</td>\n",
       "      <td>0.19</td>\n",
       "    </tr>\n",
       "    <tr>\n",
       "      <th>9</th>\n",
       "      <td>CSTF64 /RAB7</td>\n",
       "      <td>0.20</td>\n",
       "    </tr>\n",
       "  </tbody>\n",
       "</table>\n",
       "</div>"
      ],
      "text/plain": [
       "           Transcript  Stability\n",
       "0   CSTF64 /NLE             0.12\n",
       "1      OAT/RAB7             0.12\n",
       "2          26S/CSTF64       0.13\n",
       "3    CSTF64/OAT             0.14\n",
       "4       26S/NLE             0.15\n",
       "5      NLE/RAB7             0.15\n",
       "6      26S/RAB7             0.16\n",
       "7        NLE/OAT            0.18\n",
       "8        26S/OAT            0.19\n",
       "9  CSTF64 /RAB7             0.20"
      ]
     },
     "execution_count": 37,
     "metadata": {},
     "output_type": "execute_result"
    }
   ],
   "source": [
    "df1"
   ]
  },
  {
   "cell_type": "code",
   "execution_count": 38,
   "id": "c248338d",
   "metadata": {},
   "outputs": [
    {
     "data": {
      "image/png": "[encoded data removed]",
      "text/plain": [
       "<Figure size 500x200 with 1 Axes>"
      ]
     },
     "metadata": {},
     "output_type": "display_data"
    }
   ],
   "source": [
    "plots_em_x=1\n",
    "plots_em_y=1\n",
    "label_size=10\n",
    "ticksize=8.3\n",
    "fig, axs= plt.subplots(plots_em_y,plots_em_x, figsize=(5*plots_em_x, 2*plots_em_y))\n",
    "\n",
    "x=[0,1,2,3,4,5,6,7,8,9]\n",
    "   \n",
    "plt.bar(x,df1['Stability'],label='Stability', color='C0', width=0.8, edgecolor='black')#,lw=0.5,marker='o',ms=5,mew=0, fillstyle='full',markerfacecolor='C0')\n",
    "#plt.plot(df1['NormFinder'],label='NormFinder',lw=0.5,marker='o',ms=5,mew=0, fillstyle='full',markerfacecolor='C1')\n",
    "axs.set_xticks([0,1,2,3,4,5,6,7,8,9])\n",
    "# axs.set_yticks([0.5,1])\n",
    "AA=['CSTF64\\nNLE',\n",
    "'OAT\\nRAB7',\n",
    "'26S\\nCSTF64',\n",
    "'CSTF64\\nOAT',\n",
    "'26S\\nNLE',\n",
    "'NLE\\nRAB7',\n",
    "'26S\\nRAB7',\n",
    "'NLE\\nOAT',\n",
    "'26S\\nOAT',\n",
    "'CSTF64\\nRAB7']\n",
    "axs.set_xticklabels(AA,rotation=45,fontsize=ticksize)\n",
    "# axs.set_yticks(fontsize=ticksize)\n",
    "axs.set_xlabel(r'Transcript',fontsize=label_size)\n",
    "axs.set_ylabel(r'Stability',fontsize=label_size)\n",
    "#axs.annotate('a)', xy=(0.03, 0.95),xycoords='axes fraction',\n",
    " #                     horizontalalignment='left', verticalalignment='top')\n",
    "#axs.legend(fontsize=label_size, frameon=False)#,bbox_to_anchor=(0.5, 0.4))#loc= 'lower right' )#, )\n",
    "plt.savefig(r'C:\\Users\\daisy\\Desktop\\housekeeping\\Figuras\\bar_plot_pairwise.pdf',bbox_inches='tight',pad_inches=0.02, transparent=True, dpi=700)"
   ]
  },
  {
   "cell_type": "code",
   "execution_count": null,
   "id": "5b35f225",
   "metadata": {},
   "outputs": [],
   "source": []
  }
 ],
 "metadata": {
  "kernelspec": {
   "display_name": "Python 3 (ipykernel)",
   "language": "python",
   "name": "python3"
  },
  "language_info": {
   "codemirror_mode": {
    "name": "ipython",
    "version": 3
   },
   "file_extension": ".py",
   "mimetype": "text/x-python",
   "name": "python",
   "nbconvert_exporter": "python",
   "pygments_lexer": "ipython3",
   "version": "3.9.13"
  }
 },
 "nbformat": 4,
 "nbformat_minor": 5
}
